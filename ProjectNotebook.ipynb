{
 "cells": [
  {
   "cell_type": "markdown",
   "metadata": {},
   "source": [
    "# Project Description"
   ]
  },
  {
   "cell_type": "markdown",
   "metadata": {},
   "source": [
    "My project is a program for playing the classic word game, Mad Libs.\n",
    "\n",
    "To begin, run my_script.py. The user will be given a few options for story templates to choose from. They then can enter either the title of the story template (not case sensitive) or the number in parentheses after the title. The program will prompt the user for various types of words (verb, noun, adjective, etc.), and these words will be used to fill in the story template. The final story, complete with the user input words, will be printed. The user can then either choose another story to complete, or quit the game."
   ]
  }
 ],
 "metadata": {
  "kernelspec": {
   "display_name": "Python 3",
   "language": "python",
   "name": "python3"
  },
  "language_info": {
   "codemirror_mode": {
    "name": "ipython",
    "version": 3
   },
   "file_extension": ".py",
   "mimetype": "text/x-python",
   "name": "python",
   "nbconvert_exporter": "python",
   "pygments_lexer": "ipython3",
   "version": "3.6.7"
  }
 },
 "nbformat": 4,
 "nbformat_minor": 2
}
